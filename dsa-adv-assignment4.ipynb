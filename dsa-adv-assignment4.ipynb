{
 "cells": [
  {
   "cell_type": "code",
   "execution_count": 2,
   "id": "11c21b55",
   "metadata": {},
   "outputs": [
    {
     "name": "stdout",
     "output_type": "stream",
     "text": [
      "Breadth-First Traversal starting from vertex 0:\n",
      "0 1 2 3 4 5 "
     ]
    }
   ],
   "source": [
    "#1.Breadth First Traversal for a Graph\n",
    "\n",
    "from collections import defaultdict, deque\n",
    "\n",
    "class Graph:\n",
    "    def __init__(self):\n",
    "        self.graph = defaultdict(list)\n",
    "\n",
    "    def add_edge(self, u, v):\n",
    "        self.graph[u].append(v)\n",
    "\n",
    "    def bfs(self, start_vertex):\n",
    "        visited = set()  # To keep track of visited nodes\n",
    "        queue = deque()  # Create a queue for BFS\n",
    "\n",
    "        visited.add(start_vertex)\n",
    "        queue.append(start_vertex)\n",
    "\n",
    "        while queue:\n",
    "            current_vertex = queue.popleft()\n",
    "            print(current_vertex, end=\" \")  # Process the current node (e.g., print it)\n",
    "\n",
    "            for neighbor in self.graph[current_vertex]:\n",
    "                if neighbor not in visited:\n",
    "                    visited.add(neighbor)\n",
    "                    queue.append(neighbor)\n",
    "\n",
    "# Example usage:\n",
    "g = Graph()\n",
    "\n",
    "# Add edges to the graph\n",
    "g.add_edge(0, 1)\n",
    "g.add_edge(0, 2)\n",
    "g.add_edge(1, 3)\n",
    "g.add_edge(1, 4)\n",
    "g.add_edge(2, 5)\n",
    "\n",
    "print(\"Breadth-First Traversal starting from vertex 0:\")\n",
    "g.bfs(0)\n"
   ]
  },
  {
   "cell_type": "code",
   "execution_count": 5,
   "id": "99af8572",
   "metadata": {},
   "outputs": [
    {
     "name": "stdout",
     "output_type": "stream",
     "text": [
      "Depth-First Traversal starting from vertex 0:\n",
      "0 1 3 5 2 4 "
     ]
    }
   ],
   "source": [
    "#2.Depth First Traversal for a Graph\n",
    "\n",
    "class Graph:\n",
    "    def __init__(self, vertices):\n",
    "        self.vertices = vertices\n",
    "        self.adjacency_list = {}\n",
    "        for vertex in range(vertices):\n",
    "            self.adjacency_list[vertex] = []\n",
    "\n",
    "    def add_edge(self, u, v):\n",
    "        self.adjacency_list[u].append(v)\n",
    "\n",
    "    def dfs(self, start_vertex):\n",
    "        visited = [False] * self.vertices  \n",
    "        self._dfs_util(start_vertex, visited)\n",
    "\n",
    "    def _dfs_util(self, vertex, visited):\n",
    "        visited[vertex] = True\n",
    "        print(vertex, end=\" \") \n",
    "\n",
    "        for neighbor in self.adjacency_list[vertex]:\n",
    "            if not visited[neighbor]:\n",
    "                self._dfs_util(neighbor, visited)\n",
    "g = Graph(6)\n",
    "g.add_edge(0, 1)\n",
    "g.add_edge(0, 2)\n",
    "g.add_edge(1, 3)\n",
    "g.add_edge(2, 4)\n",
    "g.add_edge(3, 5)\n",
    "\n",
    "print(\"Depth-First Traversal starting from vertex 0:\")\n",
    "g.dfs(0)\n"
   ]
  },
  {
   "cell_type": "code",
   "execution_count": 4,
   "id": "d89cf339",
   "metadata": {},
   "outputs": [
    {
     "name": "stdout",
     "output_type": "stream",
     "text": [
      "Number of nodes at level 2: 4\n"
     ]
    }
   ],
   "source": [
    "#3.Count the number of nodes at given level in a tree using BFS\n",
    "\n",
    "from collections import deque\n",
    "\n",
    "class TreeNode:\n",
    "    def __init__(self, value):\n",
    "        self.value = value\n",
    "        self.children = []\n",
    "\n",
    "def count_nodes_at_level(root, target_level):\n",
    "    if not root:\n",
    "        return 0\n",
    "\n",
    "    queue = deque([(root, 0)])\n",
    "    count = 0\n",
    "\n",
    "    while queue:\n",
    "        current_node, level = queue.popleft()\n",
    "\n",
    "        if level == target_level:\n",
    "            count += 1\n",
    "\n",
    "        for child in current_node.children:\n",
    "            queue.append((child, level + 1))\n",
    "\n",
    "    return count\n",
    "root = TreeNode(1)\n",
    "root.children = [TreeNode(2), TreeNode(3)]\n",
    "root.children[0].children = [TreeNode(4), TreeNode(5)]\n",
    "root.children[1].children = [TreeNode(6), TreeNode(7)]\n",
    "\n",
    "target_level = 2\n",
    "count = count_nodes_at_level(root, target_level)\n",
    "print(f\"Number of nodes at level {target_level}: {count}\")\n"
   ]
  },
  {
   "cell_type": "code",
   "execution_count": 6,
   "id": "8fc95780",
   "metadata": {},
   "outputs": [
    {
     "name": "stdout",
     "output_type": "stream",
     "text": [
      "Number of trees in the forest: 4\n"
     ]
    }
   ],
   "source": [
    "#4.Count number of trees in a forest\n",
    "\n",
    "from collections import defaultdict\n",
    "\n",
    "class Graph:\n",
    "    def __init__(self):\n",
    "        self.graph = defaultdict(list)\n",
    "\n",
    "    def add_edge(self, u, v):\n",
    "        self.graph[u].append(v)\n",
    "        self.graph[v].append(u)\n",
    "\n",
    "    def dfs(self, vertex, visited):\n",
    "        visited[vertex] = True\n",
    "        for neighbor in self.graph[vertex]:\n",
    "            if not visited[neighbor]:\n",
    "                self.dfs(neighbor, visited)\n",
    "\n",
    "    def count_trees_in_forest(self):\n",
    "        visited = {vertex: False for vertex in self.graph}\n",
    "        count = 0\n",
    "\n",
    "        for vertex in self.graph:\n",
    "            if not visited[vertex]:\n",
    "                self.dfs(vertex, visited)\n",
    "                count += 1\n",
    "\n",
    "        return count\n",
    "g = Graph()\n",
    "g.add_edge(0, 1)\n",
    "g.add_edge(2, 3)\n",
    "g.add_edge(4, 5)\n",
    "g.add_edge(6, 7)\n",
    "\n",
    "count = g.count_trees_in_forest()\n",
    "print(f\"Number of trees in the forest: {count}\")\n"
   ]
  },
  {
   "cell_type": "code",
   "execution_count": 7,
   "id": "a5c5670f",
   "metadata": {},
   "outputs": [
    {
     "name": "stdout",
     "output_type": "stream",
     "text": [
      "The directed graph contains at least one cycle.\n"
     ]
    }
   ],
   "source": [
    "#5.Detect Cycle in a Directed Graph\n",
    "\n",
    "from collections import defaultdict\n",
    "\n",
    "class Graph:\n",
    "    def __init__(self):\n",
    "        self.graph = defaultdict(list)\n",
    "\n",
    "    def add_edge(self, u, v):\n",
    "        self.graph[u].append(v)\n",
    "\n",
    "    def is_cyclic_util(self, vertex, visited, recursion_stack):\n",
    "        visited[vertex] = True\n",
    "        recursion_stack[vertex] = True\n",
    "\n",
    "        for neighbor in self.graph[vertex]:\n",
    "            if not visited[neighbor]:\n",
    "                if self.is_cyclic_util(neighbor, visited, recursion_stack):\n",
    "                    return True\n",
    "            elif recursion_stack[neighbor]:\n",
    "                return True\n",
    "\n",
    "        recursion_stack[vertex] = False\n",
    "        return False\n",
    "\n",
    "    def is_cyclic(self):\n",
    "        visited = {vertex: False for vertex in self.graph}\n",
    "        recursion_stack = {vertex: False for vertex in self.graph}\n",
    "        for vertex in self.graph:\n",
    "            if not visited[vertex]:\n",
    "                if self.is_cyclic_util(vertex, visited, recursion_stack):\n",
    "                    return True\n",
    "\n",
    "        return False\n",
    "g = Graph()\n",
    "g.add_edge(0, 1)\n",
    "g.add_edge(1, 2)\n",
    "g.add_edge(2, 0)\n",
    "if g.is_cyclic():\n",
    "    print(\"The directed graph contains at least one cycle.\")\n",
    "else:\n",
    "    print(\"The directed graph does not contain a cycle.\")\n"
   ]
  },
  {
   "cell_type": "code",
   "execution_count": null,
   "id": "affcb3ca",
   "metadata": {},
   "outputs": [],
   "source": []
  }
 ],
 "metadata": {
  "kernelspec": {
   "display_name": "Python 3 (ipykernel)",
   "language": "python",
   "name": "python3"
  },
  "language_info": {
   "codemirror_mode": {
    "name": "ipython",
    "version": 3
   },
   "file_extension": ".py",
   "mimetype": "text/x-python",
   "name": "python",
   "nbconvert_exporter": "python",
   "pygments_lexer": "ipython3",
   "version": "3.10.9"
  }
 },
 "nbformat": 4,
 "nbformat_minor": 5
}
